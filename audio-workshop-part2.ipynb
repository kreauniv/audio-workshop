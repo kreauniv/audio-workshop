{
 "cells": [
  {
   "cell_type": "markdown",
   "id": "ffa40a96-5d29-4e8e-9bca-b952207558e8",
   "metadata": {},
   "source": [
    "# Relationship between \"frequency\" and \"phase\" contd.\n",
    "\n",
    "We saw how the simple \"sine wave\" can be represented using the mathematical function $y(t) = a \\text{sin}(2\\pi f t)$ where we said that $f$ is the \"frequency\" of the sine wave. Well, if you completed the last task in the first workshop notebook, you might've guessed that that was a lie ... sort of.\n",
    "\n",
    "The part within the $\\text{sin}(...)$ expression is called the **phase**, often denoted using the symbol $\\phi$. As the value of the function evolves over time, the phase goes up linearly with time - since it is $\\phi(t) = 2\\pi{}ft$.\n",
    "\n",
    "We need to understand the relationship between phase and frequency deeper if we want to understand how to deal with pure tones whose perceived frequency itself changes over time. If we naively try to substitute the constant $f$ with a function of $t$ like for example $f(t) = 400 if t < 5 else 800$, we can clearly see that we'll encounter a discontinuity in the phase at $t = 5$, which will cause a discontinuity in the value of the sine wave.\n",
    "\n",
    "So, what's wrong with having a discontinuity in the audio signal? If you'd noticed either by listening or looking at the waveform, you'd have heard \"clicks\" whenever there is a discontinuity in the audio waveform. These \"clicks\" only get worse when we start considering more complicated frequency functions of time like what with music."
   ]
  },
  {
   "cell_type": "markdown",
   "id": "c6cb686d-525b-490b-ad15-858de5c19354",
   "metadata": {},
   "source": [
    "So what's the true relationship between \"frequency\" and \"phase\"? It is $2\\pi f(t) = d\\phi/dt$. You can see how this holds for our initial \"since wave of fixed frequency\" function. So a sine wave which has a time varying frequency ought to be determined using -\n",
    "\n",
    "$$\\text{sine_wave}(t) = a\\text{sin}(\\int_0^t{2\\pi f(\\tau)d\\tau})$$\n",
    "\n",
    "It is not as complicated to consider the case where the amplitude also varies with time --\n",
    "\n",
    "$$\\text{sine_wave}(t) = a(t) \\text{sin}(\\int_0^t{2\\pi f(\\tau)d\\tau})$$\n"
   ]
  },
  {
   "cell_type": "markdown",
   "id": "0692d58d-ce3a-4034-8014-f23884736d9c",
   "metadata": {},
   "source": [
    "## Task\n",
    "\n",
    "Can you try to express the other three waveforms in the first exercise -- the triangle wave, the square wave and the sawtooth wave -- in a similar manner?"
   ]
  },
  {
   "cell_type": "markdown",
   "id": "b54edc6b-f7e6-4ada-a62c-0f16bfdae8d0",
   "metadata": {},
   "source": [
    "## The \"phasor\"\n",
    "\n",
    "The part of the sine wave expression $\\int_0^t{f(\\tau)d\\tau}$ is a useful component to describe quasi periodic signals whose \"frequency\" keeps changing from time to time. We'll call this function the \"phasor\" - i.e. $\\text{phasor}(t) = \\int_0^t{f(\\tau)d\\tau}$. We can now express the sine wave (and other waves too) as $\\text{sine_wave}(t) = a(t) \\text{sin}(2\\pi \\text{phasor}(t))$. Note that the wave completes a period every time $\\text{phasor}(t)$ crosses an integer."
   ]
  },
  {
   "cell_type": "markdown",
   "id": "458fe846-6e6f-4167-99bc-e6f6eb013452",
   "metadata": {},
   "source": [
    "## Rewriting our signal functions as stateful functions\n",
    "\n",
    "If you noticed, we can no longer use the same approach to writing julia functions for these waves that we did at first. This is because to calculate the signal at any given time $t$, we will have to calculate an integral from the start of tiume $0$ to time $t$ ... which would be an expensive operation.\n",
    "\n",
    "Since our `digitize` function calculates the signal value for incremental time steps, it would be adequate if we model our functions to also work in time increments of $T$ where $T$ is the time between two audio samples - i.e. \"the sampling interval\" -- where $f_s = 1/T$ gives the \"sampling frequency\" a.k.a. \"sampling rate\". Our mathematical function therefore has to now become \"stateful\" since we need to keep track of the \"current phase\" from one time step to the next."
   ]
  },
  {
   "cell_type": "code",
   "execution_count": 22,
   "id": "28345532-5f9a-4f95-aefe-a70b370692b5",
   "metadata": {},
   "outputs": [
    {
     "data": {
      "text/plain": [
       "write_sound_file (generic function with 2 methods)"
      ]
     },
     "execution_count": 22,
     "metadata": {},
     "output_type": "execute_result"
    }
   ],
   "source": [
    "# We will assume that amplitude and frequency are themselves time varying and therefore stateful.\n",
    "# So now our \"wave functions\" are no longer functions of $t$ but are functions of $dt$ the time\n",
    "# increment from one sample to the next.\n",
    "\n",
    "# First, we define the ability to make a \"constant waveform\". This one doesn't change value from\n",
    "# one time step to the next.\n",
    "function konst(val)\n",
    "    function wave(dt)\n",
    "        val\n",
    "    end\n",
    "end\n",
    "\n",
    "function phasor(frequency, initial_value = 0.0)\n",
    "    p = initial_value\n",
    "    function wave(dt)\n",
    "        pval = p\n",
    "        p = p + frequency(dt) * dt\n",
    "        pval\n",
    "    end\n",
    "end\n",
    "\n",
    "function sine_wave(amplitude, frequency, initial_phasor = 0.0)\n",
    "    internal_phasor = phasor(frequency, initial_phasor)\n",
    "    twopi = 2 * 3.141592654\n",
    "    function wave(dt)\n",
    "        amplitude(dt) * sin(twopi * internal_phasor(dt))\n",
    "    end\n",
    "end\n",
    "\n",
    "# Our digitization function will now change to calling the functions with the \n",
    "# time increment instead of time.\n",
    "function digitize(wavefn, duration, sampling_rate=48000)\n",
    "    number_of_samples = trunc(Int, duration * sampling_rate)\n",
    "    samples = Array{Float32,1}(undef, number_of_samples)\n",
    "    dt = 1.0 / sampling_rate\n",
    "    for i in 1:number_of_samples\n",
    "        samples[i] = wavefn(dt)\n",
    "    end\n",
    "    samples\n",
    "end\n",
    "\n",
    "# We'll also write a utility function \"scaled_wave\" which will rescale the value of\n",
    "# a time varying signal to a new range. If the given wavefn takes on values in the\n",
    "# range [x0,x1], the scaled wave function will take on values in the range [y0,y1].\n",
    "function scaled_wave(wavefn, x0, x1, y0, y1)\n",
    "    scaling_factor = (y1 - y0) / (x1 - x0)\n",
    "    function wave(dt)\n",
    "        y0 + (wavefn(dt) - x0) * scaling_factor\n",
    "    end\n",
    "end\n",
    "\n",
    "# Given samples and a file name, this one writes the float32 samples\n",
    "# as raw data to the given output file.\n",
    "function write_sound_file(file_name, samples, sampling_rate=48000)\n",
    "    out = open(file_name, \"w\")\n",
    "    write(out, samples)\n",
    "    close(out)\n",
    "end"
   ]
  },
  {
   "cell_type": "markdown",
   "id": "bc92e9f5-ae2a-4cde-a9e5-fd1bf9254a46",
   "metadata": {},
   "source": [
    "We can now create a kind of siren-like sound that oscillates smoothly between two frequencies by making a sine wave whose frequency itself varyies as a sine wave. This is called \"modulation\"."
   ]
  },
  {
   "cell_type": "code",
   "execution_count": 21,
   "id": "26cf29a4-994a-49e4-b5f2-fb8ce75a279e",
   "metadata": {},
   "outputs": [],
   "source": [
    "amplitude = konst(0.25)\n",
    "modulated_frequency = scaled_wave(sine_wave(konst(1.0), konst(0.5)), -1.0, 1.0, 440.0, 660.0)\n",
    "siren = sine_wave(amplitude, modulated_frequency)\n",
    "samples = digitize(siren, 10.0)\n",
    "write_sound_file(\"/tmp/siren.float32\", samples)"
   ]
  },
  {
   "cell_type": "markdown",
   "id": "25764ad6-b2a5-43d5-b6ea-13f152c63c0c",
   "metadata": {},
   "source": [
    "So you can now see how we can create and combine different wave types to make new kinds of sounds. Next up we'll explore how to analyze sounds and understand them from a perceptual point of view.\n",
    "\n",
    "## Tasks\n",
    "\n",
    "1. Write \"stateful wave functions\" like the above for the other waveforms you were introduced to - i.e. sawtooth wave, triangle wave, square wave and produce frequency modulated tones like we did with the sine wave. Tip - use the \"phasor\" approach.\n",
    "\n",
    "2. Write a function (or many functions) that will sum up two or more \"sine waves\" of possibly different frequencies and amplitudes to produce a composite audio signal. Generate some examples, listen to them and observe any patterns in the way they sound."
   ]
  },
  {
   "cell_type": "code",
   "execution_count": null,
   "id": "f27dd08a-51cd-4f87-8d0c-c1c1fc4b0509",
   "metadata": {},
   "outputs": [],
   "source": []
  }
 ],
 "metadata": {
  "kernelspec": {
   "display_name": "Julia 1.7.1",
   "language": "julia",
   "name": "julia-1.7"
  },
  "language_info": {
   "file_extension": ".jl",
   "mimetype": "application/julia",
   "name": "julia",
   "version": "1.7.1"
  }
 },
 "nbformat": 4,
 "nbformat_minor": 5
}
