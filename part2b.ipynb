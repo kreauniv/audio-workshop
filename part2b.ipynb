{
 "cells": [
  {
   "cell_type": "markdown",
   "id": "3fcfa55e-a5a0-4550-914a-a4a1f438ce4c",
   "metadata": {},
   "source": [
    "# Part 2b: Modulated signals\n",
    "\n",
    "We now have an understanding of the relationship between the \"phase\" of a periodic signal, which acts like a timer for indexing into a single period of the signal, and its \"frequency\". We also understand how we can make the frequency change from moment to moment by making the phase go faster or slower.\n",
    "\n",
    "**Modulation** is the term used to describe a modification of a signal by addition or multiplication with another signal. Though you can generalize beyond those operations, we'll restrict our exploration to that as they're very common and useful in synthesis.\n",
    "\n",
    "## Amplitude modulation\n",
    "\n",
    "This is the simplest of the various kinds of modulated signals we can produce. Given a signal $s(t)$, we can \"modulate\" it with another \"amplitude signal\" $a(t)$ using multiplication to get $a(t)s(t)$. While this is a general way to state modulation, typically, $s(t)$ is taken to be a quasi periodic signal with some \"nice\" frequencies in it and $a(t)$ is a signal that moves slowly relative to the period of $s(t)$ - i.e. it changes relatively little over a single period of $s(t)$ ... though that isn't a strict requirement.\n",
    "\n",
    "With this kind of modulation, we can produce interesting mised signals.\n",
    "\n",
    "For example, if we consider modulating a sine wave with a given frequency by another sine wave of relatively very low frequency - i.e. $\\sin(2\\pi \\delta ft)\\sin(2\\pi ft)$ where we use $\\delta f$ to denote a small frequency, we can apply some basic trigonometry to see that this expression can be rewritten as \n",
    "\n",
    "$$\\sin(2\\pi \\delta ft)\\sin(2\\pi ft) = (1/2)(\\cos(2\\pi(f-\\delta f)t) - \\cos(2\\pi(f+\\delta f)t))$$\n",
    "\n",
    "since we know that $$\\cos(a+b) = \\cos(a)\\cos(b) - \\sin(a)\\sin(b)$$ and so $$ \\sin(a)\\sin(b) = (1/2)(\\cos(a-b) - \\cos(a+b))$$."
   ]
  },
  {
   "cell_type": "markdown",
   "id": "a4986d5d-7c44-448d-bf3f-8e5cc80943fb",
   "metadata": {},
   "source": [
    "How do we interpret the above equation?\n",
    "\n",
    "We can now see that modulating the amplitude of a sine wave using another low frequency sine wave will result in two sine waves of slightly different frequencies being \"mixed\" - i.e. added ... and vice versa - i.e. the mixing of two sine waves with close frequencies will sound like a single sine wave that's being modulated by a slow oscillating ampltidue where the oscillation frequency is half of the difference between the two frequencies being mixed.\n",
    "\n",
    "As the frequency of the modulating signal becomes higher, the separation between the two mixed frequencies also increases. If the separation is comparable to the frequency of the sine wave being modulated, then you'll hear two distinct tones whereas if the separation is relatively small, you'll hear it as a \"wobble\".\n",
    "\n",
    "**Task**: Synthesize such a modulated signal, listen to it and observe what it sounds like for different values of the modulating signal's frequencies."
   ]
  },
  {
   "cell_type": "markdown",
   "id": "83c91e60-c3ea-44dc-8c62-d4fa501f77e5",
   "metadata": {},
   "source": [
    "## Frequency modulation\n",
    "\n",
    "In contrast with amplitude modulation for which we perform multiplication, we can choose to modulate the frequency of a sine wave through either addition or multiplication. Given a sine wave with time varying frequency,\n",
    "\n",
    "$$\\sin(\\int_{0}^{t}{2\\pi f(t)dt})$$"
   ]
  },
  {
   "cell_type": "markdown",
   "id": "1969cd2a-9145-4f09-80e5-7c020a9ffc89",
   "metadata": {},
   "source": [
    "if we wish to modulate the frequency by adding another time varying component to it, the above expression simply becomes -\n",
    "\n",
    "$$\\sin(\\int_{0}^{t}{2\\pi (f(t) + g(t))dt})$$"
   ]
  },
  {
   "cell_type": "markdown",
   "id": "2a22d6bc-f137-4a2c-9d66-3e0a623e5ce1",
   "metadata": {},
   "source": [
    "How would we use it?\n",
    "\n",
    "We could choose a base frequency such as 440Hz - making $f(t) = 440$, a constant, and have a time varying part be a separate $g(t)$, like how we'd make a siren sound.\n",
    "\n",
    "We also saw how when we perceive frequency as \"pitch\", we perceive relative ratios of frequencies to be qualitatively the same. This gave us the \"octave\" and the 12 tones within the octave. Supposing we want to modulate the frequency of the sine wave to make a melody, what we'd want to do is to think in terms of the tone changes and not frequency changes. Since pitch behaves as $\\log_2(f)$, we can take our modulation signal $m(t)$ and apply it to a base frequency as shown below -\n",
    "\n",
    "$$\\sin(\\int_{0}^{t}{2\\pi (2^{m(t)/12}f(t) ) dt})$$"
   ]
  },
  {
   "cell_type": "markdown",
   "id": "31d9023c-24f5-48ce-9136-36c26ff1ae56",
   "metadata": {},
   "source": [
    "Here we're modulating the frequency by multiplication instead of addition. This is more musically viable, which we've suggested my using $m(t)$ for \"melody\".\n",
    "\n",
    "**Task**: Take your sine wave and try to make a melody by modulating its frequency using this technique."
   ]
  },
  {
   "cell_type": "markdown",
   "id": "ee1df557-2f2a-48d6-bb6d-8d2e9dec3f2f",
   "metadata": {},
   "source": [
    "## Phase modulation\n",
    "\n",
    "We can directly modulate the phase in analogous ways. However, phase is not something we directly perceive as a quality of a sound. We can't tell the difference between a sine wave or a cosine wave. However, our auditory system can use phase differences between signals arriving at our ears in order to locate a sound source. Therefore phase modulation is useful when you wish to mimic sound sources being placed in 3D and we're producing stereo sound.\n",
    "\n",
    "Since we're not going to be concerned about this aspect much in our work, we'll leave it at that for the moment and revisit when it becomes necessary."
   ]
  },
  {
   "cell_type": "markdown",
   "id": "f2b377bd-344a-40bd-9abf-87b187df63b4",
   "metadata": {},
   "source": [
    "## Tasks\n",
    "\n",
    "1. Play with an amplitude modulated sine wave where you're varying the modulating frequency. What does the composite signal sound like?\n",
    "\n",
    "2. See, or rather hear, whether you get the same kind of sound when you mix two sine waves of different frequencies. Now, we showed it as a mathematical identity, so you should not be able to tell the difference. However, the two approaches lead to different ways to control the resulting sound.\n"
   ]
  },
  {
   "cell_type": "code",
   "execution_count": null,
   "id": "a5104feb-6fcf-42f8-bdd3-45bcf97d171d",
   "metadata": {},
   "outputs": [],
   "source": []
  }
 ],
 "metadata": {
  "kernelspec": {
   "display_name": "Julia 1.7.1",
   "language": "julia",
   "name": "julia-1.7"
  },
  "language_info": {
   "file_extension": ".jl",
   "mimetype": "application/julia",
   "name": "julia",
   "version": "1.7.1"
  }
 },
 "nbformat": 4,
 "nbformat_minor": 5
}
