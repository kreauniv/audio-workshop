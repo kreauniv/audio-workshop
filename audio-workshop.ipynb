{
 "cells": [
  {
   "cell_type": "markdown",
   "id": "4427de88-23e7-4459-94be-8f7a96058882",
   "metadata": {},
   "source": [
    "# Introduction\n",
    "\n",
    "This notebook is intended to walk a beginner through basic concepts of audio signal processing required to get into audio synthesis and analysis. A basic familiarity with the Julia programming language is required. A number of tutorials are available at [Julia Tutorials](https://julialang.org/learning/tutorials/). For the basics, you may want to refer to the [Julia Language - a concise tutorial](https://syl1.gitbook.io/julia-language-a-concise-tutorial/)."
   ]
  },
  {
   "cell_type": "markdown",
   "id": "31f34163-c765-43d9-98b2-7b8ff38662e6",
   "metadata": {},
   "source": [
    "## Basic concepts and terminology\n",
    "\n",
    "A digital audio signal is represented as a sequence of numbers taken to refer to some physical aspect of the sound such as air pressure around a microphone over time. The pressure is an analog quantity - i.e. can be measured at any given time and not only at specific times. Since we cannot deal with real world analog quantities on a computer, we use an approximation of it by **sampling** the analog quantity at regular intervals of time, called the **sampling rate** (in \"Hertz\" Hz - which is \"samples per second\"), and digitizing the pressure value into a number, usually in the range `[-1.0 to 1.0]`. For our purposes, we'll use 32-bit floating point numbers to represent these \"samples\".\n",
    "\n",
    "For a **stereo** audio signal -- an audio signal with two **channels** -- each sample will be made of two such numbers, one for the left pickup and one for the right pickup. A pair of such samples may be referred to in the literature as a **sample frame**, a **frame** or just as a **sample** if the context is clear. For more complex signals like 8-channel surround sound, similarly 8 different numbers are packed into a **sample frame**. \n",
    "\n",
    "For our purpose, we'll mostly be dealing with **mono** sound signals - i.e. which have only one **channel**. A mono signal therefore has a very simple representation when working with the sound - a simple one-dimensional `Float32` array.\n",
    "\n",
    "Common \"sampling rates\" used in audio processing are 22.05KHz, 44.1KHz, 48KHz and 96KHz (where KHz = \"Kilo Hertz\" where 1KHz = 1000Hz). **We will use 48KHz unless otherwise noted**. This is a good quality sampling rate and is usually the default on today's desktop computers and operating systems."
   ]
  },
  {
   "cell_type": "markdown",
   "id": "a12b021c-e55e-4548-96cc-000a197c9413",
   "metadata": {},
   "source": [
    "## A note on volume levels\n",
    "\n",
    "Earlier, we noted that sound signals are \"digitized\" into numbers in the range `[-1.0 to 1.0]`. The maximum value of a sample can therefore be `1.0`. However, we do not want to use the full range since a computer's audio system may treat this as a very loud sound at default volume settings. Furthermore, we will need some \"head room\" when we're working with audio signals by combining multiple signals or running algorithms on them. For example, if we add two sine waves of **amplitude** 1.0 each, we'll get an amplitude of 2.0, which exceeds the range. When the range is exceeded and you play the audio anyway, you will hear what is called **clipping** - where the audio system on your computer will take `min(max(signal, -1.0), 1.0)` and play the result. **We do not want our audio to clip**. So either we will process the audio to reduce the amplitude after applying any processing steps, or we will simply use lower amplitude values to start with."
   ]
  },
  {
   "cell_type": "markdown",
   "id": "7d4e256d-79de-4a0a-acc1-4737e8dffd6c",
   "metadata": {},
   "source": [
    "## Making a sine tone\n",
    "\n",
    "A pure tone has the shape of the mathematical `sin(x)` function. The formula for such a pure sine tone can therefore be expressed as - $y(t) = a * \\text{sin}(2\\pi ft)$, where $a$ is the \"amplitude\" of the sine wave -- i.e. the maximum value it can take on, and $f$ is the frequency in Hz. $t$ is the time in seconds. This is the mathematical formula for an analog audio signal. In order to \"digitize\" it, we will convert it into a discrete series by calculating values at discrete times given by $t = f_s i$ where $f_s$ is the **sampling rate** (also known as **sampling frequency**) in some literature.\n",
    "\n",
    "Let us make a 10-second long sine tone which has a frequency of 440Hz (the pitch known as \"A440\") and try to play it back."
   ]
  },
  {
   "cell_type": "code",
   "execution_count": 40,
   "id": "a407cdf3-6b42-4d38-8db2-f82521664316",
   "metadata": {},
   "outputs": [
    {
     "data": {
      "text/plain": [
       "write_sound_file (generic function with 2 methods)"
      ]
     },
     "execution_count": 40,
     "metadata": {},
     "output_type": "execute_result"
    }
   ],
   "source": [
    "function sine_wave(frequency, amplitude=0.25)\n",
    "    # We return a mathematical function which we can sample at regular intervals\n",
    "    # to get a digitized audio signal.\n",
    "    function wave(t)\n",
    "        amplitude * sin(2 * 3.141592654 * frequency * t)\n",
    "    end\n",
    "end\n",
    "\n",
    "# Given any function of time and a duration, \"digitize\" will sample\n",
    "# the function's values at a regular rate given by \"sampling_rate\" and\n",
    "# return a Float32 array of the appropriate length.\n",
    "function digitize(func, duration, sampling_rate=48000)\n",
    "    number_of_samples = trunc(Int,sampling_rate * duration)\n",
    "    signal = Array{Float32,1}(undef, number_of_samples)\n",
    "    for i in 1:number_of_samples\n",
    "        signal[i] = func(i / sampling_rate)\n",
    "    end\n",
    "    signal\n",
    "end\n",
    "\n",
    "# Given samples and a file name, this one writes the float32 samples\n",
    "# as raw data to the given output file.\n",
    "function write_sound_file(file_name, samples, sampling_rate=48000)\n",
    "    out = open(file_name, \"w\")\n",
    "    write(out, samples)\n",
    "    close(out)\n",
    "end"
   ]
  },
  {
   "cell_type": "markdown",
   "id": "27dd84bc-200c-48b8-be9f-156c7fe0869a",
   "metadata": {},
   "source": [
    "Now let's write out a simple sine tone of frequency 440Hz of duration 10 seconds and amplitude 0.25 and play it back."
   ]
  },
  {
   "cell_type": "code",
   "execution_count": 43,
   "id": "d9075a90-5e30-4d6c-95ec-bd1adce77751",
   "metadata": {},
   "outputs": [],
   "source": [
    "write_sound_file(\"/tmp/10sec_A440.float32\", digitize(sine_wave(440.0, 0.25), 10.0))"
   ]
  },
  {
   "cell_type": "markdown",
   "id": "6ea71681-78ce-4124-84f7-110d853fe36a",
   "metadata": {},
   "source": [
    "Once the above line is executed, you'll find a fil enamed \"10sec_A440.float32\" in the \"tmp\" folder. Most audio players won't know how to play it as the file does not contain all the information required to interpret its contents, such as the sampling rate and sample format.\n",
    "\n",
    "1. Open Audacity application\n",
    "2. Choose \"File -> Import -> Raw data\"\n",
    "3. Choose the \"/tmp/10sec_A440.float32\" file\n",
    "4. You'll see a dialog box with settings. Change the settings to the following -\n",
    "    a. Set \"Encoding\" to \"32-bit float\"\n",
    "    b. Set \"Byte order\" to \"Default endianness\"\n",
    "    c. Set \"Channels\" to \"1 (mono)\"\n",
    "    d. Set \"Sample rate\" to \"48000\" Hz.\n",
    "    e. Leave the other boxes at their defaults.\n",
    "5. Audacity will now open the file and display a waveform. Don't worry id you are seeing a blue block instead of a \"wave form\", because 10 seconds of audio has 4400 wiggles, they all get squashed into a block of colour.\n",
    "6. Hit \"play\" to play the sound. Do you hear a tone?\n",
    "7. Change the zoom settings - click on the magnifying glass icon and then click roughly in the middle of the waveform multiple times to \"zoom into the audio signal\". After clicking about 4 times, you should be able to see the sine wave shape emerge."
   ]
  },
  {
   "cell_type": "markdown",
   "id": "6dea7634-b496-460e-aadd-a2c2baaea06b",
   "metadata": {},
   "source": [
    "If you've come this far, **congratulations**! You've synthesized your first sound. Note that you can also go the other way around - i.e. record a mono sound using Audacity, export it into raw float32 format at 48000Hz and use simple julia code to read in the audio file to work with the clip."
   ]
  },
  {
   "cell_type": "markdown",
   "id": "4e036566-7b44-447f-b078-5d777fbe9dce",
   "metadata": {},
   "source": [
    "## Questions\n",
    "\n",
    "When importing the sound file into Audacity, what do you get if you chose a different value for the sample rate - say 24000Hz, or 44100Hz. Does the clip sound different? What happens to the \"duration\" that Audacity displays? Can you explain what you observe?\n"
   ]
  },
  {
   "cell_type": "markdown",
   "id": "d663e929-a196-4bff-a36d-883cf23f0f31",
   "metadata": {},
   "source": [
    "# The relationship between \"frequency\" and \"phase\" of a pure tone\n",
    "\n",
    "When we described our pure sine tone, we wrote it out as a closed form mathematical expression like this - $y(t) = a \\text{sin}(2\\pi ft)$ where we noted that $f$ is the frequency. Supposing we want to make a sine wave whose frequency itself changes over time (like with much of music), how would we do it?\n",
    "\n",
    "Let's say you want the frequency of the sound to vary between 440Hz and 660Hz over a duration of 2 seconds. We can write frequency curve that as a mathematical function of time as $f(t) = 440 + t * (660 - 440) / 2.0$ where $t$ is assumed to be in the range $0.0$ to $2.0$ seconds. \n",
    "\n",
    "**Task** Modify the above Julia code to make a sine wave whose frequency will vary according to the function $f(t)$ we just wrote. Digitize the result, write it out to a file and listen to it in Audacity. How does it sound? Does it sound correct to you? If yes, explain what you just did. If no, what sounds wrong about it?\n"
   ]
  },
  {
   "cell_type": "code",
   "execution_count": null,
   "id": "b85e45e4-6f8c-4311-a1d4-69e81e24eabc",
   "metadata": {},
   "outputs": [],
   "source": []
  }
 ],
 "metadata": {
  "kernelspec": {
   "display_name": "Julia 1.7.1",
   "language": "julia",
   "name": "julia-1.7"
  },
  "language_info": {
   "file_extension": ".jl",
   "mimetype": "application/julia",
   "name": "julia",
   "version": "1.7.1"
  }
 },
 "nbformat": 4,
 "nbformat_minor": 5
}
