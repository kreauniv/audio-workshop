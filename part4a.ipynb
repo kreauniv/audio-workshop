{
 "cells": [
  {
   "cell_type": "markdown",
   "id": "463d928d-367f-43ec-baa7-6af22f3c99db",
   "metadata": {},
   "source": [
    "# Part 4a: Synthesis techniques - Additive synthesis\n",
    "\n",
    "(Draft: May move around topics)\n",
    "\n",
    "In part 4, you'll be introduced to some common audio synthesis techniques at a cursory level. Each of these topics is deep enough to spend an entire workshop on them. Our goal though is to get a broad enough understanding that we'll be able to start working with a specific approach -- physical modeling synthesis -- with this background. We start with the simplest of the techniques -- known as additive synthesis.\n",
    "\n",
    "## The idea of an \"instrument\" that is used in a \"performance\"\n",
    "\n",
    "When thinking about humans making music, we can easily conceive of a person \"playing\" and \"instrument\". The instrument has some sonic characteristics that we attribute to the physicality of the instrument and something we don't expect to change qualitatively as the musician \"plays\" it. The instrument also offers modes of control that permit the musician to make meaningful sounds with it -- thus \"performing\" with it.\n",
    "\n",
    "When dealing with computer synthesized sounds for music making, there is virtually no limit on the kinds of sounds that can be produced, ignoring the difficulty of producing them. This is because we can compute every sample of the output sound using whatever method we want to. We can produce pure white noise, for example, by setting each sample to a random value in the range $[-1.0,1.0]$ ... something that we cannot do with physical instruments.\n",
    "\n",
    "The downside of this possibility expansion is ... the very large space of possibilities. To bring this under a bit of control, we can choose to separate concerns by building a function that will serve as an \"instrument\" which can then be \"performed\" by setting the value of some control parameters to vary in a certain way over time. The idea here is to make the instrument have a consistent identifiable characteristic to it, though that is not a necessity if you want to experiment.\n",
    "\n",
    "## Our \"sine wave\" instrument\n",
    "\n",
    "We've already made such an instrument -- the \"sine wave\" function -- which can be controlled by varying its amplitude and frequency over time."
   ]
  },
  {
   "cell_type": "code",
   "execution_count": 1,
   "id": "34bf66f1-8fb2-45f1-9bce-1953aefbdc04",
   "metadata": {},
   "outputs": [
    {
     "data": {
      "text/plain": [
       "sine_wave (generic function with 2 methods)"
      ]
     },
     "execution_count": 1,
     "metadata": {},
     "output_type": "execute_result"
    }
   ],
   "source": [
    "function sine_wave(amplitude, frequency, sampling_rate=48000)\n",
    "    p = 0.0f0\n",
    "    function wave(dt)\n",
    "        pval = p\n",
    "        p = p + frequency(dt) * dt\n",
    "        a = amplitude(dt)\n",
    "        a * sin(2.0f0 * pi * p)\n",
    "    end\n",
    "end"
   ]
  },
  {
   "cell_type": "markdown",
   "id": "d381bb33-d61c-43b0-aff4-9449e2116431",
   "metadata": {},
   "source": [
    "The `amplitude` and `frequency` arguments are in our control. These are too complex for us to control in real time sample to sample though and it would be nice to have to specify far fewer things. \n",
    "\n",
    "Now, in the natural world, even including humans, a pure sine tone that lasts for ever does not occur at all. In as far as pure tones do occur (ex: ringing metals), they decay over time and become silent after a while. We can model such a decay by setting the amplitude to a time varying value that is shaped like an exponential function $a e^-kt$."
   ]
  },
  {
   "cell_type": "code",
   "execution_count": 21,
   "id": "abc9ebd0-a36d-418a-95f5-a787790ffe6b",
   "metadata": {},
   "outputs": [
    {
     "data": {
      "text/plain": [
       "decaying_sine (generic function with 2 methods)"
      ]
     },
     "execution_count": 21,
     "metadata": {},
     "output_type": "execute_result"
    }
   ],
   "source": [
    "function konst(val)\n",
    "    function wave(dt)\n",
    "        val\n",
    "    end\n",
    "end\n",
    "\n",
    "function decay(peak, dur)\n",
    "    t = 0.0\n",
    "    k = 3.0   # The exponential will decay from the given\n",
    "              # peak value down to 2^-3 over dur seconds.\n",
    "    function wave(dt)\n",
    "        tval = t\n",
    "        t = t + dt\n",
    "        peak * (2 ^ (-k * t / dur))\n",
    "    end\n",
    "end\n",
    "\n",
    "function decaying_sine(peak, freq, dur, sampling_rate=48000)\n",
    "    envelope = decay(peak, dur)\n",
    "    sine_wave(envelope, konst(freq), sampling_rate)\n",
    "end\n"
   ]
  },
  {
   "cell_type": "markdown",
   "id": "9a2aad4f-485c-4d6b-9133-1761dfab0805",
   "metadata": {},
   "source": [
    "There are some slight \"problems\" with the decaying sine wave. For one thing, it does not come down to 0 after the given duration, so the duration is more like a suggestion to the function. If we want it to go down to zero strictly speaking, what we can do is $$\\frac{2^{-k\\min(1,t/d)} - 2^{-k}}{1 - 2^{-k}}$$. Though such an envelope isn't usually a product of any physical process, it approximates an exponential decay while also meeting the convenient criterion of going down to 0 after a finite duration.\n",
    "\n",
    "We can now use such a decaying sine wave to make a \"tune player\"."
   ]
  },
  {
   "cell_type": "code",
   "execution_count": 25,
   "id": "a1af7e06-2314-4a32-a10b-f17208c810d2",
   "metadata": {},
   "outputs": [
    {
     "data": {
      "text/plain": [
       "tune (generic function with 1 method)"
      ]
     },
     "execution_count": 25,
     "metadata": {},
     "output_type": "execute_result"
    }
   ],
   "source": [
    "\"\"\"\n",
    "    seq(dursig)\n",
    "\n",
    "dursig is an array of pairs - whose first values are\n",
    "durations in seconds and whose second values are signals\n",
    "that have to be played for those specific durations.\n",
    "The result is a composite tone \"sequence\".\n",
    "\"\"\"\n",
    "function seq(dursig)\n",
    "    t = 0.0f0\n",
    "    i = 1\n",
    "    function wave(dt)\n",
    "        if i < length(dursig)\n",
    "            t = t + dt\n",
    "            val = dursig[i][2](dt)\n",
    "            if t >= dursig[i][1]\n",
    "                t = t - dursig[i][1]\n",
    "                i = i + 1\n",
    "            end\n",
    "            val\n",
    "        else\n",
    "            # If the sequence has ended, just keep playing the\n",
    "            # last signal.\n",
    "            dursig[end][2](dt)\n",
    "        end\n",
    "    end\n",
    "end\n",
    "    \n",
    "pitch2freq(p) = 440 * 2 ^ ((p - 69)/12)\n",
    "\n",
    "function tune()\n",
    "    # The melodic scale we're going to use.\n",
    "    scale = 60 .+ [0, 2, 4, 5, 7, 9, 11, 12]\n",
    "    \n",
    "    # The pattern of notes from the scale that we're going to play.\n",
    "    pat = [1, 2, 3, 1, 3, 1, 3, 2, 3, 4, 4, 3, 2, 4]\n",
    "    dur = 0.25 * [3, 1, 3, 1, 2, 2, 4, 3, 1, 1, 1, 1, 1, 8]\n",
    "    \n",
    "    # Compute the amplitude shape of each note.\n",
    "    amp = seq([(dur[i], decay(0.3, dur[i])) for i in 1:length(pat)])\n",
    "    \n",
    "    # Compute the frequency of each note.\n",
    "    freq = seq([(dur[i], konst(pitch2freq(scale[pat[i]]))) for i in 1:length(pat)])\n",
    "    \n",
    "    # Pass the computed amp and freq to the sine wave oscillator to make\n",
    "    # the result. Note that we're using a single oscillator and controlling\n",
    "    # it to play a tune.\n",
    "    (sine_wave(amp, freq), sum(dur))\n",
    "end"
   ]
  },
  {
   "cell_type": "markdown",
   "id": "6cbecd59-187a-4967-8afe-0bcfbd6c18fe",
   "metadata": {},
   "source": [
    "We can now test out the tune player above by writing its output to a file."
   ]
  },
  {
   "cell_type": "code",
   "execution_count": 24,
   "id": "e7e89499-d7cf-491f-9925-e4937acf7fa0",
   "metadata": {},
   "outputs": [
    {
     "data": {
      "text/plain": [
       "1536004"
      ]
     },
     "execution_count": 24,
     "metadata": {},
     "output_type": "execute_result"
    }
   ],
   "source": [
    "open(\"/tmp/tune.float32\", \"w\") do out\n",
    "    w = tune()\n",
    "    dt = 1/48000\n",
    "    write(out, [convert(Float32, w[1](dt)) for t in 0:dt:w[2]])\n",
    "end"
   ]
  },
  {
   "cell_type": "markdown",
   "id": "5a7e5357-3e5a-4b5e-b347-3a570b4a67f6",
   "metadata": {},
   "source": [
    "## Task\n",
    "\n",
    "Listen to the output and note down your observations about how it sounds, what parts you think are ok and what parts aren't.\n",
    "\n",
    "We used a single oscillator (`sine_wave`) to play a tune. What do you think are the limitations of this approach? How would you address these limitations?\n",
    "\n",
    "Can you try the same approach using triangle and other wave functions you've written earlier?"
   ]
  },
  {
   "cell_type": "markdown",
   "id": "153cb6fd-40e4-474c-86ab-688b5e24c4c1",
   "metadata": {},
   "source": [
    "## Additive synthesis\n",
    "\n",
    "From Fourier analysis, we know that any given periodic signal can be decomposed into a set of sine and cosine signals. This forms the basis of what is known as \"additive synthesis\" - where a compound signal with potentially varying tonal quality (or \"timbre\") is constructed by adding together a number of sine and cosine waves and manipulating their amplitudes.\n",
    "\n",
    "While technically you have full freedom to decide the shape of the amplitudes and frequencies of these signals, the idea is to shape them in a manner that yields a \"coherent\" sound you can use for musical purposes. For example, periodic and quasi-periodic [^quasi] signals can be decomposed into a sum of sine/cosine functions with frequencies being integer multiples of the signal's frequency. These other \"integer multiple frequencies\" of the base frequency go by the name \"harmonics\".\n",
    "\n",
    "So a subset of additive synthesis may also be stated as constructing signals as a sum of a set of shaped harmonics. \n",
    "\n",
    "An example of the kind of shaping is that in real instruments, higher frequencies tend to decay at a faster rate than lower frequencies. So we could construct the decay rate of each harmonic as a function of its frequency, thereby creating an illusion of cohesiveness in the result sound.\n",
    "\n",
    "[^quasi]: \"quasi\" is often used to mean \"pseudo\" or \"approximately\" and usually refers to some conditions required for the original concept being relaxed."
   ]
  }
 ],
 "metadata": {
  "kernelspec": {
   "display_name": "Julia 1.7.1",
   "language": "julia",
   "name": "julia-1.7"
  },
  "language_info": {
   "file_extension": ".jl",
   "mimetype": "application/julia",
   "name": "julia",
   "version": "1.7.1"
  }
 },
 "nbformat": 4,
 "nbformat_minor": 5
}
